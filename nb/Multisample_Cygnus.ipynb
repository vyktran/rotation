{
 "cells": [
  {
   "cell_type": "code",
   "execution_count": 2,
   "id": "89eb77cd-cb46-4504-ba80-2419abefb1b5",
   "metadata": {},
   "outputs": [],
   "source": [
    "source('../src/utils.R')\n",
    "source('../src/plot.R')"
   ]
  },
  {
   "cell_type": "code",
   "execution_count": 5,
   "id": "d35b6fc8-a7df-4b24-901c-17bc0600a95b",
   "metadata": {},
   "outputs": [],
   "source": [
    "library(Matrix)\n",
    "cells = readMM('../data/VizgenLungHacohen/cells/counts.mtx')\n",
    "genes = read.table('../data/VizgenLungHacohen/cells/genes.txt', header=TRUE)\n",
    "meta_data = read.table('../data/VizgenLungHacohen/cells/meta_data.csv', sep=',', header=TRUE)"
   ]
  },
  {
   "cell_type": "code",
   "execution_count": null,
   "id": "bf6a818c-dc37-4266-acd5-72b05efda667",
   "metadata": {},
   "outputs": [],
   "source": []
  }
 ],
 "metadata": {
  "kernelspec": {
   "display_name": "R",
   "language": "R",
   "name": "ir"
  },
  "language_info": {
   "codemirror_mode": "r",
   "file_extension": ".r",
   "mimetype": "text/x-r-source",
   "name": "R",
   "pygments_lexer": "r",
   "version": "4.3.3"
  }
 },
 "nbformat": 4,
 "nbformat_minor": 5
}
