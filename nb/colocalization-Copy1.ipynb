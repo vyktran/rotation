{
 "cells": [
  {
   "cell_type": "code",
   "execution_count": 1,
   "id": "a00b1f22-ca87-4f14-b143-6dad0f4aeb50",
   "metadata": {},
   "outputs": [],
   "source": [
    "suppressPackageStartupMessages({\n",
    "    library(data.table)\n",
    "    library(dplyr)\n",
    "    library(glue)\n",
    "    library(ggplot2)\n",
    "    library(sf)\n",
    "    library(patchwork)\n",
    "    library(ggthemes)\n",
    "    library(purrr)\n",
    "    library(Matrix)\n",
    "    library(tidyr)\n",
    "    library(Seurat)\n",
    "    library(uwot)\n",
    "    library(igraph)\n",
    "    library(future)\n",
    "    library(scran)\n",
    "    library(DESeq2)\n",
    "    library(pheatmap)\n",
    "    library(furrr)\n",
    "    library(spatula)\n",
    "    library(deldir)\n",
    "    library(tidyverse)\n",
    "    library(purrr)\n",
    "    library(tictoc)\n",
    "\n",
    "})\n",
    "fig.size <- function(h, w) {\n",
    "    options(repr.plot.height = h, repr.plot.width = w)\n",
    "}\n"
   ]
  },
  {
   "cell_type": "code",
   "execution_count": 2,
   "id": "a9cfd3a1-ff5c-428e-b73e-b375615bb16f",
   "metadata": {},
   "outputs": [],
   "source": [
    "dmt1 <- readRDS('../data/dmt1.rds')\n",
    "aggs1 <- readRDS('../data/aggs1.rds')\n",
    "gene_ls = read.table('../data/VizgenLungHacohen/cells/genes.txt', header=FALSE)$V1\n"
   ]
  },
  {
   "cell_type": "code",
   "execution_count": 3,
   "id": "15eb8bf8-a66c-4053-bf60-d977da4eae60",
   "metadata": {},
   "outputs": [],
   "source": [
    "programs = read.csv('../data/NMF41.csv', header=1)\n",
    "# Don't include MP24.Cilia and MP11.Translation.initiation due to non-overlapping genes\n",
    "lung_programs = c('MP1..Cell.Cycle...G2.M','MP5.Stress','MP6.Hypoxia','MP2..Cell.Cycle...G1.S','MP12.EMT.I','MP18.Interferon.MHC.II..II.','MP13.EMT.II','MP14.EMT.III',\n",
    "                 'MP10.Protein.maturation','MP8.Proteasomal.degradation','MP19.Epithelial.Senescence','MP3..Cell.Cylce.HMG.rich','MP23.Secreted.II','MP30.PDAC.classical')\n",
    "lung_programs = programs[lung_programs]\n",
    "# Get just the epithelial cells\n",
    "epi_idx = which(dmt1$pts$type_lvl1=='Epithelial')\n",
    "intersected_genes = sapply(lung_programs, intersect, gene_ls)"
   ]
  },
  {
   "cell_type": "code",
   "execution_count": 4,
   "id": "c5bcbde2-31f5-46ce-9454-1045b261fa99",
   "metadata": {},
   "outputs": [
    {
     "name": "stderr",
     "output_type": "stream",
     "text": [
      "Found more than one class \"dist\" in cache; using the first, from namespace 'spam'\n",
      "\n",
      "Also defined by ‘BiocGenerics’\n",
      "\n",
      "Found more than one class \"dist\" in cache; using the first, from namespace 'spam'\n",
      "\n",
      "Also defined by ‘BiocGenerics’\n",
      "\n"
     ]
    }
   ],
   "source": [
    "epi_seurat = readRDS('../data/epi_seurat.RDS')\n",
    "program_score = epi_seurat@meta.data[,14:28]\n",
    "weighted_adjmtx = uwot::umap(program_score, min_dist=0.3, spread=1, ret_extra='fgraph', fast_sgd=TRUE)"
   ]
  },
  {
   "cell_type": "code",
   "execution_count": null,
   "id": "1c3fd451-9c07-4f09-a65f-63cccf5ae11e",
   "metadata": {},
   "outputs": [],
   "source": [
    "source('../src/cluster_utils.R')\n",
    "leiden_clusters = do_leiden_one(weighted_adjmtx$fgraph, resolution=0.4, n_starts=1)"
   ]
  },
  {
   "cell_type": "code",
   "execution_count": null,
   "id": "c4a9e6b3-b2f6-4f58-9b37-ce81753df55b",
   "metadata": {},
   "outputs": [],
   "source": [
    "# Merge new epi subtypes with the original data\n",
    "epi_idx = which(dmt1$pts$type_lvl1=='Epithelial')\n",
    "epi_counts = dmt1$counts[,epi_idx]\n",
    "epi_meta = dmt1$pts[epi_idx,]\n",
    "epi_meta$type_lvl2 <- paste('Epi', leiden_clusters, sep='')\n",
    "epi_subtypes = epi_meta[,c('ORIG_ID', 'type_lvl2')]\n",
    "merge_df = merge(dmt1$pts, epi_subtypes, by='ORIG_ID', all=TRUE)\n",
    "# Replace column type_lvl2 where available\n",
    "merge_df$type_lvl2.x = ifelse(!is.na(merge_df$type_lvl2.y), merge_df$type_lvl2.y, merge_df$type_lvl2.x)\n",
    "merge_df = select(merge_df, -type_lvl2.y)\n",
    "colnames(merge_df) <- c('ORIG_ID','X','Y','type_lvl1','type_lvl2','hubID','f','agg_id','spatial_cluster')\n",
    "head(merge_df)\n"
   ]
  },
  {
   "cell_type": "code",
   "execution_count": 16,
   "id": "f1623446-6176-438a-a874-b3606fa4cf15",
   "metadata": {},
   "outputs": [],
   "source": [
    "#write.csv(merge_df, '../data/merge_subtype_epi.csv')"
   ]
  },
  {
   "cell_type": "code",
   "execution_count": 2,
   "id": "3f75a4f2-185b-4143-9af1-4a247c9a583e",
   "metadata": {},
   "outputs": [],
   "source": [
    "merge_df = read.csv('../data/merge_subtype_epi.csv')\n",
    "merge_df = merge_df %>% dplyr::filter(type_lvl1 != '')"
   ]
  },
  {
   "cell_type": "code",
   "execution_count": 3,
   "id": "2e56f24f-d813-4c42-a9f3-bf35bff3cb28",
   "metadata": {},
   "outputs": [],
   "source": [
    "# Colocalization code\n",
    "coloc_one_type = function(index_type, adj, y, nperm = 100, max_dist=30, compartments=NULL, verbose=TRUE) {\n",
    "    if (verbose) message(index_type)\n",
    "    types = unique(y)\n",
    "    i_index = which(y == index_type)\n",
    "    i_shuffle = setdiff(seq_len(length(y)), i_index)\n",
    "\n",
    "    X = adj[i_index, ] %*% Matrix::sparse.model.matrix(~0+y) %>% as.matrix()\n",
    "    colnames(X) = gsub('^y', '', colnames(X))\n",
    "    freq = (colSums(X) / nrow(X))[types]\n",
    "\n",
    "    freq_perm = map(seq_len(nperm), function(i) {\n",
    "        set.seed(i)\n",
    "        yperm = y\n",
    "        if (is.null(compartments)) {\n",
    "            yperm[i_shuffle] = sample(y[i_shuffle])\n",
    "        } else {\n",
    "            ## shuffle inside compartments, to preserve total composition within compartment\n",
    "            .x = split(i_shuffle, compartments[i_shuffle]) %>%\n",
    "                map(function(.i) {\n",
    "                    ## CAUTION: if .i is a single number, sample will interpret it as 1:.i\n",
    "                    if (length(.i) == 1) {\n",
    "                        res = .i\n",
    "                    } else {\n",
    "                        res = sample(.i) ## shuffle non-index cells inside hub            \n",
    "                    }\n",
    "                   \n",
    "                    names(res) = .i\n",
    "                    return(res)\n",
    "                }) %>%\n",
    "                purrr::reduce(c)\n",
    "            yperm[as.integer(names(.x))] <- y[.x]\n",
    "        }\n",
    "\n",
    "        X = adj[i_index, ] %*% Matrix::sparse.model.matrix(~0+yperm) %>% as.matrix() #%>% prop.table(1)\n",
    "        colnames(X) = gsub('^yperm', '', colnames(X))\n",
    "        (colSums(X) / nrow(X))[types]    \n",
    "    }) %>%\n",
    "        purrr::reduce(rbind2)\n",
    "    \n",
    "    \n",
    "    # Return all 0 here\n",
    "    #print(apply(freq_perm, 2, sd))\n",
    "\n",
    "   \n",
    "    stats = tibble(\n",
    "        type = types,\n",
    "        freq,\n",
    "        zscore = (freq - apply(freq_perm, 2, mean)) / apply(freq_perm, 2, sd),\n",
    "        pval = exp(pnorm(-zscore, log.p = TRUE, lower.tail = TRUE)), ## one-tailed\n",
    "        fdr = p.adjust(pval)\n",
    "    ) %>%\n",
    "        cbind(dplyr::rename(data.frame(t(apply(freq_perm, 2, quantile, c(.025, .975)))), q025 = `X2.5.`, q975 = `X97.5.`)) %>% ## 95% CI\n",
    "\n",
    "    \n",
    "        subset(type != index_type) %>%\n",
    "        dplyr::mutate(index_type = index_type) %>%\n",
    "        dplyr::select(index_type, type, everything()) %>%\n",
    "        arrange(fdr)\n",
    "\n",
    "    return(stats)    \n",
    "}\n",
    "\n",
    "\n",
    "coloc_all_types = function(index_types, coords, y, nperm = 100, nsteps=1, max_dist=30, compartments=NULL, parallel=TRUE, verbose=TRUE) {\n",
    "    if (parallel & length(index_types) > 1) {\n",
    "        plan(multicore)\n",
    "    } else {\n",
    "        plan(sequential)\n",
    "    }\n",
    "\n",
    "    ## Define neighbors\n",
    "    ## NOTE: max_dist only refers to directly adjacent neighbors\n",
    "    adj = spatula::getSpatialNeighbors(coords, return_weights = TRUE)\n",
    "    adj@x[adj@x > max_dist] = 0\n",
    "    adj = Matrix::drop0(adj)\n",
    "    adj@x = rep(1, length(adj@x))\n",
    "   \n",
    "    ## If nsteps>1, consider not only your adjacent neighbors\n",
    "    ##   but also your neighbor's neighbors etc.\n",
    "    if (nsteps > 1) {\n",
    "        adj = adj + Matrix::Diagonal(n = nrow(adj)) ## add self\n",
    "        for (iter in seq_len(nsteps - 1)) {\n",
    "            adj = adj %*% adj\n",
    "        }\n",
    "        ## Ignore weights. Only care if cell is a neighbor or not\n",
    "        adj@x = rep(1, length(adj@x))\n",
    "       \n",
    "        ## Remove self as neighbor\n",
    "        adj = adj - Matrix::Diagonal(n = nrow(adj))\n",
    "        adj = Matrix::drop0(adj)\n",
    "    }\n",
    "       \n",
    "    all_stats = index_types %>%\n",
    "        future_map(coloc_one_type, adj, y, nperm, max_dist, compartments, verbose, .options = furrr::furrr_options(seed = 1)) %>%\n",
    "        rbindlist()  \n",
    "\n",
    "    return(all_stats)\n",
    "    \n",
    "}\n",
    "\n"
   ]
  },
  {
   "cell_type": "code",
   "execution_count": 4,
   "id": "0526f031-e3ff-49d5-b9b1-f5768dd8af8b",
   "metadata": {},
   "outputs": [],
   "source": [
    "plan(multicore, workers = parallel::detectCores() - 1)\n"
   ]
  },
  {
   "cell_type": "code",
   "execution_count": 5,
   "id": "4cdc8012-3557-4e96-8f22-f386c505253b",
   "metadata": {},
   "outputs": [
    {
     "name": "stderr",
     "output_type": "stream",
     "text": [
      "Warning message in hubID == c(\"H260\", \"H455\"):\n",
      "“longer object length is not a multiple of shorter object length”\n"
     ]
    },
    {
     "name": "stdout",
     "output_type": "stream",
     "text": [
      "[1] 135925\n"
     ]
    },
    {
     "data": {
      "text/plain": [
       "\n",
       "  H260   H261   H265   H266   H268   H269   H270   H271   H275   H276   H280 \n",
       "235646     56    116   2159    223     28    237     34   1339     28     46 \n",
       "  H282   H284   H285   H286   H287   H289   H290   H292   H297   H298   H300 \n",
       "    11  12778     42  70426    150    247    314     72     45    745     83 \n",
       "  H302   H304   H305   H307   H308   H310   H311   H312   H315   H316   H318 \n",
       "   103   5749   1540    204     88    330    302    448     57    173   2458 \n",
       "  H320   H321   H322   H323   H326   H327   H331   H332   H335   H339   H340 \n",
       "   148     47   1794     90    121      7     96      2     69     61   2475 \n",
       "  H341   H342   H343   H345   H346   H347   H348   H349   H350   H351   H353 \n",
       "    62     88   9972    403   3110    288    112   5267    201     36    110 \n",
       "  H354   H358   H359   H360   H361   H362   H363   H365   H366   H367   H368 \n",
       "  6553    159    528    297   1289   4891     78   2038     95     46    433 \n",
       "  H369   H370   H371   H373   H374   H375   H376   H380   H382   H383   H384 \n",
       "   172    800   6086     60     73    257    197    147     69     53   1916 \n",
       "  H385   H386   H387   H388   H389   H391   H392   H393   H395   H396   H398 \n",
       "   280     19    992   5025     48    123   2641   1179     42     68    140 \n",
       "  H400   H401   H402   H403   H405   H409   H410   H411   H412   H414   H415 \n",
       "   159     69     98     50   2330    822     54    119    138    113    107 \n",
       "  H416   H418   H419   H420   H421   H422   H423   H425   H426   H428   H430 \n",
       "   826    948   7834     73   3061     63    428    200   2052    316    459 \n",
       "  H431   H432   H433   H435   H437   H438   H439   H440   H441   H443   H444 \n",
       "  1348   3164   1135     79    165     75    102     11   5584     79    120 \n",
       "  H445   H446   H447   H449   H450   H451   H453   H454   H455   H457   H458 \n",
       "   264     60    262   1232    204   1525     30    301  36256     88   1101 \n",
       "  H459   H460   H462   H464   H465   H466   H467   H468   H469   H472   H475 \n",
       "    60    408    253    410    124     70    120     14   3622    291    103 \n",
       "  H476   H477   H478   H479   H480   H483   H484   H485   H486   H489   H491 \n",
       "    75    466    282   9469    111    276   1399   1298    347    597     66 \n",
       "  H492   H493   H494   H495   H496   H497   H498   H501   H502   H503   H504 \n",
       "    24     23    817     66     79     71     95    323    345    104     62 \n",
       "  H506   H508   H510   H511   H512   H514   H515   H516   H518   H519   H520 \n",
       "     1    262     13     51      1     82    122    176     51    646   2122 \n",
       "  H522   H523   H524   H527   H530   H532   H533   H534   H535   H538   H539 \n",
       "    59     68    122    174    196     57    784    125    386    102    174 \n",
       "  H542   H544   H545   H548   H550   H551   H555   H558   H559   H560   H561 \n",
       "    76   2991     64    152     56    108     64     82     76     84     55 \n",
       "  H563   H564   H568   H570   H572   H573   H575   H579   H581   H582   H585 \n",
       "    67     87     52   2640     72     52    191     66     56     67    496 \n",
       "  H588   H589   H590   H591   H592   H593   H594   H595   H597   H599   H601 \n",
       "   107    124     47    144     57     42    623     57    193     57    143 \n",
       "  H603   H605   H607   H610   H611   H612   H613   H614   H617   H618   H622 \n",
       "   140     70    112     57     71    117    330    145    108     66     42 \n",
       "  H623   H624   H626   H627   H630   H631   H633   H634   H635   H636   H637 \n",
       "    39    137     87    124     74     23    134    141     54     25     59 \n",
       "  H639   H642   H643   H644   H645   H647   H648   H649   H650   H651   H652 \n",
       "  9610     67     99    182     75     52    894    101     37   6934     61 \n",
       "  H653   H654   H656   H657   H659   H660   H661   H663   H665   H666   H667 \n",
       "   147    152    398    665    571     87    232     66    141    643     47 \n",
       "  H668   H669   H672   H673   H677   H679   H681   H684   H685   H686   H688 \n",
       "   111    121    136     58   1272     75    906    117    351     44     79 \n",
       "  H689   H690   H691   H693   H696   H698   H700   H701   H703   H705   H706 \n",
       "   556    514     86     47   6370   1733    305    157    969     81    284 \n",
       "  H707   H708   H709   H710   H713   H715   H716   H717   H718   H721   H724 \n",
       "   113    504    481     60    840    499    771    279     53    145    382 \n",
       "  H725   H726   H727   H729   H730   H731   H732   H735   H736   H737   H739 \n",
       "   372    343    147    202     52     69    124    248    435    151    197 \n",
       "  H740   H741   H742   H743   H745   H747   H749   H750   H752   H753   H755 \n",
       "   190     87     34     66   1021     49     60    520    182     91     64 \n",
       "  H756   H757   H758   H761   H762   H763   H764   H765   H766   H767   H768 \n",
       "   185     60    629     53     83   5916     78    162     48     26   1304 \n",
       "  H769   H772   H773   H774   H775   H776   H779   H781   H783   H784   H785 \n",
       "   170    964    247    573   1867    945    145    410    372    556     21 \n",
       "  H790   H792   H793   H794   H795   H796   H797   H799   H800   H801   H802 \n",
       "   184     27    134    750     57     57    102   1959     74     29    221 \n",
       "  H803   H804   H805   H806   H807   H808   H810   H812   H822   H823   H824 \n",
       "  1991     32    454   1618    535    111    439    148     70     34    244 \n",
       "  H825   H827   H828   H829   H830   H832   H834   H835   H836   H837   H838 \n",
       " 12406     54    240    127     79     94    358    496     94     47    386 \n",
       "  H839   H840   H841   H842   H843   H845   H846   H850   H851   H853 \n",
       "   114     82    217   5992   7387    323     52    257     52    299 "
      ]
     },
     "metadata": {},
     "output_type": "display_data"
    }
   ],
   "source": [
    "test = subset(merge_df, hubID==c('H260', 'H455'))\n",
    "print(nrow(test))\n",
    "table(merge_df$hubID)"
   ]
  },
  {
   "cell_type": "code",
   "execution_count": 6,
   "id": "98b02939-cc5b-4f4e-9fa8-0fc4ea3949e9",
   "metadata": {
    "scrolled": true
   },
   "outputs": [
    {
     "name": "stderr",
     "output_type": "stream",
     "text": [
      "Epi1\n",
      "\n",
      "Epi3\n",
      "\n",
      "Epi2\n",
      "\n",
      "Epi4\n",
      "\n",
      "MARCO+ Macrophage\n",
      "\n",
      "Epi5\n",
      "\n",
      "Vascular\n",
      "\n",
      "SPP1+ Macrophage\n",
      "\n",
      "CD8 T\n",
      "\n",
      "Fibroblast\n",
      "\n",
      "FOLR2+CD14+ Macrophage\n",
      "\n",
      "NCAM1+ S100B+ SEPP1+ Myeloid\n",
      "\n",
      "Treg\n",
      "\n",
      "MERTK+ Macrophage\n",
      "\n",
      "CD1C+ITGAX+ DC\n",
      "\n",
      "FCN1+LYZ+ Macrophage\n",
      "\n",
      "CD4 T\n",
      "\n",
      "CXCL13+ CD4 T\n",
      "\n",
      "MMP1+SOX4+ Myeloid\n",
      "\n",
      "CXCL10+ Macrophage\n",
      "\n",
      "LAMP3+CD1C+ DC\n",
      "\n",
      "TCF7+ CD8 T\n",
      "\n",
      "ILC\n",
      "\n",
      "LAMP3+CCL19+ mreg DC\n",
      "\n",
      "Plasma\n",
      "\n",
      "FLT3+ DC\n",
      "\n",
      "B\n",
      "\n",
      "Mast\n",
      "\n",
      "NK\n",
      "\n",
      "CXCL13+ CD8 T\n",
      "\n",
      "PLA2G7+ CCL18+ Macrophage\n",
      "\n",
      "Epi6\n",
      "\n"
     ]
    },
    {
     "name": "stdout",
     "output_type": "stream",
     "text": [
      "1237.318 sec elapsed\n"
     ]
    }
   ],
   "source": [
    "tic()\n",
    "coloc_res = coloc_all_types(\n",
    "    index_type = unique(test$type_lvl2),\n",
    "    coords = as.matrix(test[, c('X', 'Y')]),\n",
    "    y = test$type_lvl2,\n",
    "    compartments = test$hubID,\n",
    "    max_dist = 100\n",
    ") \n",
    "toc()"
   ]
  },
  {
   "cell_type": "code",
   "execution_count": 112,
   "id": "d9f9244e-8ffc-474c-8e3c-c60566ae9630",
   "metadata": {},
   "outputs": [
    {
     "data": {
      "text/html": [
       "607885"
      ],
      "text/latex": [
       "607885"
      ],
      "text/markdown": [
       "607885"
      ],
      "text/plain": [
       "[1] 607885"
      ]
     },
     "metadata": {},
     "output_type": "display_data"
    }
   ],
   "source": [
    "nrow(merge_df)"
   ]
  },
  {
   "cell_type": "code",
   "execution_count": null,
   "id": "51a15dc4-75d0-44ff-9f41-f59144818fbd",
   "metadata": {},
   "outputs": [],
   "source": [
    "tic()\n",
    "coloc_res = coloc_all_types(\n",
    "    index_type = unique(merge_df$type_lvl2),\n",
    "    coords = as.matrix(merge_df[, c('X', 'Y')]),\n",
    "    y = merge_df$type_lvl2,\n",
    "    compartments = merge_df$hubID,\n",
    "    max_dist = 100\n",
    ") \n",
    "toc()"
   ]
  },
  {
   "cell_type": "code",
   "execution_count": 99,
   "id": "1902435b-5ba7-4b1e-b9f5-ce3a6ef00509",
   "metadata": {},
   "outputs": [
    {
     "data": {
      "text/plain": [
       "\n",
       "  H260   H261   H265   H266   H268   H269   H270   H271   H275   H276   H280 \n",
       "235646     56    116   2159    223     28    237     34   1339     28     46 \n",
       "  H282   H284   H285   H286   H287   H289   H290   H292   H297   H298   H300 \n",
       "    11  12778     42  70426    150    247    314     72     45    745     83 \n",
       "  H302   H304   H305   H307   H308   H310   H311   H312   H315   H316   H318 \n",
       "   103   5749   1540    204     88    330    302    448     57    173   2458 \n",
       "  H320   H321   H322   H323   H326   H327   H331   H332   H335   H339   H340 \n",
       "   148     47   1794     90    121      7     96      2     69     61   2475 \n",
       "  H341   H342   H343   H345   H346   H347   H348   H349   H350   H351   H353 \n",
       "    62     88   9972    403   3110    288    112   5267    201     36    110 \n",
       "  H354   H358   H359   H360   H361   H362   H363   H365   H366   H367   H368 \n",
       "  6553    159    528    297   1289   4891     78   2038     95     46    433 \n",
       "  H369   H370   H371   H373   H374   H375   H376   H380   H382   H383   H384 \n",
       "   172    800   6086     60     73    257    197    147     69     53   1916 \n",
       "  H385   H386   H387   H388   H389   H391   H392   H393   H395   H396   H398 \n",
       "   280     19    992   5025     48    123   2641   1179     42     68    140 \n",
       "  H400   H401   H402   H403   H405   H409   H410   H411   H412   H414   H415 \n",
       "   159     69     98     50   2330    822     54    119    138    113    107 \n",
       "  H416   H418   H419   H420   H421   H422   H423   H425   H426   H428   H430 \n",
       "   826    948   7834     73   3061     63    428    200   2052    316    459 \n",
       "  H431   H432   H433   H435   H437   H438   H439   H440   H441   H443   H444 \n",
       "  1348   3164   1135     79    165     75    102     11   5584     79    120 \n",
       "  H445   H446   H447   H449   H450   H451   H453   H454   H455   H457   H458 \n",
       "   264     60    262   1232    204   1525     30    301  36256     88   1101 \n",
       "  H459   H460   H462   H464   H465   H466   H467   H468   H469   H472   H475 \n",
       "    60    408    253    410    124     70    120     14   3622    291    103 \n",
       "  H476   H477   H478   H479   H480   H483   H484   H485   H486   H489   H491 \n",
       "    75    466    282   9469    111    276   1399   1298    347    597     66 \n",
       "  H492   H493   H494   H495   H496   H497   H498   H501   H502   H503   H504 \n",
       "    24     23    817     66     79     71     95    323    345    104     62 \n",
       "  H506   H508   H510   H511   H512   H514   H515   H516   H518   H519   H520 \n",
       "     1    262     13     51      1     82    122    176     51    646   2122 \n",
       "  H522   H523   H524   H527   H530   H532   H533   H534   H535   H538   H539 \n",
       "    59     68    122    174    196     57    784    125    386    102    174 \n",
       "  H542   H544   H545   H548   H550   H551   H555   H558   H559   H560   H561 \n",
       "    76   2991     64    152     56    108     64     82     76     84     55 \n",
       "  H563   H564   H568   H570   H572   H573   H575   H579   H581   H582   H585 \n",
       "    67     87     52   2640     72     52    191     66     56     67    496 \n",
       "  H588   H589   H590   H591   H592   H593   H594   H595   H597   H599   H601 \n",
       "   107    124     47    144     57     42    623     57    193     57    143 \n",
       "  H603   H605   H607   H610   H611   H612   H613   H614   H617   H618   H622 \n",
       "   140     70    112     57     71    117    330    145    108     66     42 \n",
       "  H623   H624   H626   H627   H630   H631   H633   H634   H635   H636   H637 \n",
       "    39    137     87    124     74     23    134    141     54     25     59 \n",
       "  H639   H642   H643   H644   H645   H647   H648   H649   H650   H651   H652 \n",
       "  9610     67     99    182     75     52    894    101     37   6934     61 \n",
       "  H653   H654   H656   H657   H659   H660   H661   H663   H665   H666   H667 \n",
       "   147    152    398    665    571     87    232     66    141    643     47 \n",
       "  H668   H669   H672   H673   H677   H679   H681   H684   H685   H686   H688 \n",
       "   111    121    136     58   1272     75    906    117    351     44     79 \n",
       "  H689   H690   H691   H693   H696   H698   H700   H701   H703   H705   H706 \n",
       "   556    514     86     47   6370   1733    305    157    969     81    284 \n",
       "  H707   H708   H709   H710   H713   H715   H716   H717   H718   H721   H724 \n",
       "   113    504    481     60    840    499    771    279     53    145    382 \n",
       "  H725   H726   H727   H729   H730   H731   H732   H735   H736   H737   H739 \n",
       "   372    343    147    202     52     69    124    248    435    151    197 \n",
       "  H740   H741   H742   H743   H745   H747   H749   H750   H752   H753   H755 \n",
       "   190     87     34     66   1021     49     60    520    182     91     64 \n",
       "  H756   H757   H758   H761   H762   H763   H764   H765   H766   H767   H768 \n",
       "   185     60    629     53     83   5916     78    162     48     26   1304 \n",
       "  H769   H772   H773   H774   H775   H776   H779   H781   H783   H784   H785 \n",
       "   170    964    247    573   1867    945    145    410    372    556     21 \n",
       "  H790   H792   H793   H794   H795   H796   H797   H799   H800   H801   H802 \n",
       "   184     27    134    750     57     57    102   1959     74     29    221 \n",
       "  H803   H804   H805   H806   H807   H808   H810   H812   H822   H823   H824 \n",
       "  1991     32    454   1618    535    111    439    148     70     34    244 \n",
       "  H825   H827   H828   H829   H830   H832   H834   H835   H836   H837   H838 \n",
       " 12406     54    240    127     79     94    358    496     94     47    386 \n",
       "  H839   H840   H841   H842   H843   H845   H846   H850   H851   H853 \n",
       "   114     82    217   5992   7387    323     52    257     52    299 "
      ]
     },
     "metadata": {},
     "output_type": "display_data"
    }
   ],
   "source": []
  },
  {
   "cell_type": "code",
   "execution_count": 79,
   "id": "48fcc76d-0460-4174-91ca-6f53df8bf327",
   "metadata": {},
   "outputs": [
    {
     "data": {
      "text/plain": [
       "\n",
       "  H260   H261   H265   H266   H268   H269   H270   H271   H275   H276   H280 \n",
       "235646     56    116   2159    223     28    237     34   1339     28     46 \n",
       "  H282   H284   H285   H286   H287   H289   H290   H292   H297   H298   H300 \n",
       "    11  12778     42  70426    150    247    314     72     45    745     83 \n",
       "  H302   H304   H305   H307   H308   H310   H311   H312   H315   H316   H318 \n",
       "   103   5749   1540    204     88    330    302    448     57    173   2458 \n",
       "  H320   H321   H322   H323   H326   H327   H331   H332   H335   H339   H340 \n",
       "   148     47   1794     90    121      7     96      2     69     61   2475 \n",
       "  H341   H342   H343   H345   H346   H347   H348   H349   H350   H351   H353 \n",
       "    62     88   9972    403   3110    288    112   5267    201     36    110 \n",
       "  H354   H358   H359   H360   H361   H362   H363   H365   H366   H367   H368 \n",
       "  6553    159    528    297   1289   4891     78   2038     95     46    433 \n",
       "  H369   H370   H371   H373   H374   H375   H376   H380   H382   H383   H384 \n",
       "   172    800   6086     60     73    257    197    147     69     53   1916 \n",
       "  H385   H386   H387   H388   H389   H391   H392   H393   H395   H396   H398 \n",
       "   280     19    992   5025     48    123   2641   1179     42     68    140 \n",
       "  H400   H401   H402   H403   H405   H409   H410   H411   H412   H414   H415 \n",
       "   159     69     98     50   2330    822     54    119    138    113    107 \n",
       "  H416   H418   H419   H420   H421   H422   H423   H425   H426   H428   H430 \n",
       "   826    948   7834     73   3061     63    428    200   2052    316    459 \n",
       "  H431   H432   H433   H435   H437   H438   H439   H440   H441   H443   H444 \n",
       "  1348   3164   1135     79    165     75    102     11   5584     79    120 \n",
       "  H445   H446   H447   H449   H450   H451   H453   H454   H455   H457   H458 \n",
       "   264     60    262   1232    204   1525     30    301  36256     88   1101 \n",
       "  H459   H460   H462   H464   H465   H466   H467   H468   H469   H472   H475 \n",
       "    60    408    253    410    124     70    120     14   3622    291    103 \n",
       "  H476   H477   H478   H479   H480   H483   H484   H485   H486   H489   H491 \n",
       "    75    466    282   9469    111    276   1399   1298    347    597     66 \n",
       "  H492   H493   H494   H495   H496   H497   H498   H501   H502   H503   H504 \n",
       "    24     23    817     66     79     71     95    323    345    104     62 \n",
       "  H506   H508   H510   H511   H512   H514   H515   H516   H518   H519   H520 \n",
       "     1    262     13     51      1     82    122    176     51    646   2122 \n",
       "  H522   H523   H524   H527   H530   H532   H533   H534   H535   H538   H539 \n",
       "    59     68    122    174    196     57    784    125    386    102    174 \n",
       "  H542   H544   H545   H548   H550   H551   H555   H558   H559   H560   H561 \n",
       "    76   2991     64    152     56    108     64     82     76     84     55 \n",
       "  H563   H564   H568   H570   H572   H573   H575   H579   H581   H582   H585 \n",
       "    67     87     52   2640     72     52    191     66     56     67    496 \n",
       "  H588   H589   H590   H591   H592   H593   H594   H595   H597   H599   H601 \n",
       "   107    124     47    144     57     42    623     57    193     57    143 \n",
       "  H603   H605   H607   H610   H611   H612   H613   H614   H617   H618   H622 \n",
       "   140     70    112     57     71    117    330    145    108     66     42 \n",
       "  H623   H624   H626   H627   H630   H631   H633   H634   H635   H636   H637 \n",
       "    39    137     87    124     74     23    134    141     54     25     59 \n",
       "  H639   H642   H643   H644   H645   H647   H648   H649   H650   H651   H652 \n",
       "  9610     67     99    182     75     52    894    101     37   6934     61 \n",
       "  H653   H654   H656   H657   H659   H660   H661   H663   H665   H666   H667 \n",
       "   147    152    398    665    571     87    232     66    141    643     47 \n",
       "  H668   H669   H672   H673   H677   H679   H681   H684   H685   H686   H688 \n",
       "   111    121    136     58   1272     75    906    117    351     44     79 \n",
       "  H689   H690   H691   H693   H696   H698   H700   H701   H703   H705   H706 \n",
       "   556    514     86     47   6370   1733    305    157    969     81    284 \n",
       "  H707   H708   H709   H710   H713   H715   H716   H717   H718   H721   H724 \n",
       "   113    504    481     60    840    499    771    279     53    145    382 \n",
       "  H725   H726   H727   H729   H730   H731   H732   H735   H736   H737   H739 \n",
       "   372    343    147    202     52     69    124    248    435    151    197 \n",
       "  H740   H741   H742   H743   H745   H747   H749   H750   H752   H753   H755 \n",
       "   190     87     34     66   1021     49     60    520    182     91     64 \n",
       "  H756   H757   H758   H761   H762   H763   H764   H765   H766   H767   H768 \n",
       "   185     60    629     53     83   5916     78    162     48     26   1304 \n",
       "  H769   H772   H773   H774   H775   H776   H779   H781   H783   H784   H785 \n",
       "   170    964    247    573   1867    945    145    410    372    556     21 \n",
       "  H790   H792   H793   H794   H795   H796   H797   H799   H800   H801   H802 \n",
       "   184     27    134    750     57     57    102   1959     74     29    221 \n",
       "  H803   H804   H805   H806   H807   H808   H810   H812   H822   H823   H824 \n",
       "  1991     32    454   1618    535    111    439    148     70     34    244 \n",
       "  H825   H827   H828   H829   H830   H832   H834   H835   H836   H837   H838 \n",
       " 12406     54    240    127     79     94    358    496     94     47    386 \n",
       "  H839   H840   H841   H842   H843   H845   H846   H850   H851   H853 \n",
       "   114     82    217   5992   7387    323     52    257     52    299 "
      ]
     },
     "metadata": {},
     "output_type": "display_data"
    }
   ],
   "source": []
  },
  {
   "cell_type": "code",
   "execution_count": 75,
   "id": "6c389f14-d720-4c01-ae06-cef8a69f0672",
   "metadata": {},
   "outputs": [
    {
     "data": {
      "text/html": [
       "36256"
      ],
      "text/latex": [
       "36256"
      ],
      "text/markdown": [
       "36256"
      ],
      "text/plain": [
       "[1] 36256"
      ]
     },
     "metadata": {},
     "output_type": "display_data"
    }
   ],
   "source": []
  },
  {
   "cell_type": "code",
   "execution_count": 78,
   "id": "2c0a9a80-ff3d-4f11-bf82-fecdec358953",
   "metadata": {},
   "outputs": [],
   "source": []
  },
  {
   "cell_type": "code",
   "execution_count": null,
   "id": "ee2e5a57-10b3-498e-8696-717eb784feb3",
   "metadata": {},
   "outputs": [],
   "source": []
  }
 ],
 "metadata": {
  "kernelspec": {
   "display_name": "R",
   "language": "R",
   "name": "ir"
  },
  "language_info": {
   "codemirror_mode": "r",
   "file_extension": ".r",
   "mimetype": "text/x-r-source",
   "name": "R",
   "pygments_lexer": "r",
   "version": "4.3.3"
  }
 },
 "nbformat": 4,
 "nbformat_minor": 5
}
