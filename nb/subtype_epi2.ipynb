{
 "cells": [
  {
   "cell_type": "code",
   "execution_count": 2,
   "id": "861a4120-affc-4a9a-8b76-9f89ad7e8849",
   "metadata": {},
   "outputs": [],
   "source": [
    "suppressPackageStartupMessages({\n",
    "    library(data.table)\n",
    "    library(dplyr)\n",
    "    library(glue)\n",
    "    library(ggplot2)\n",
    "    library(sf)\n",
    "    library(patchwork)\n",
    "    library(ggthemes)\n",
    "    library(purrr)\n",
    "    library(Matrix)\n",
    "    library(tidyr)\n",
    "    library(Seurat)\n",
    "})\n",
    "fig.size <- function(h, w) {\n",
    "    options(repr.plot.height = h, repr.plot.width = w)\n",
    "}\n"
   ]
  },
  {
   "cell_type": "markdown",
   "id": "c352974f-ebdf-4e5c-9c27-2237b2637f3e",
   "metadata": {},
   "source": [
    "Notebook to redo the epithelial cells subclustering based on Ilya's Jon_hub_tumor.ipynb and Nir's NMF idea. "
   ]
  },
  {
   "cell_type": "code",
   "execution_count": 3,
   "id": "52c55b7e-79c1-4413-bd58-31775a583c0f",
   "metadata": {},
   "outputs": [],
   "source": [
    "dmt1 <- readRDS('../data/dmt1.rds')\n",
    "aggs1 <- readRDS('../data/aggs1.rds')\n",
    "genes = read.table('../data/VizgenLungHacohen/cells/genes.txt', header=FALSE)"
   ]
  },
  {
   "cell_type": "code",
   "execution_count": 7,
   "id": "90748d89-fa69-4b75-b0f7-5891e58a3517",
   "metadata": {},
   "outputs": [
    {
     "data": {
      "text/html": [
       "<table class=\"dataframe\">\n",
       "<caption>A data.frame: 6 × 41</caption>\n",
       "<thead>\n",
       "\t<tr><th></th><th scope=col>MP1..Cell.Cycle...G2.M</th><th scope=col>MP2..Cell.Cycle...G1.S</th><th scope=col>MP3..Cell.Cylce.HMG.rich</th><th scope=col>MP4..Chromatin</th><th scope=col>MP5.Stress</th><th scope=col>MP6.Hypoxia</th><th scope=col>MP7.Stress..in.vitro.</th><th scope=col>MP8.Proteasomal.degradation</th><th scope=col>MP9.Unfolded.protein.response</th><th scope=col>MP10.Protein.maturation</th><th scope=col>⋯</th><th scope=col>MP32.Skin.pigmentation</th><th scope=col>MP33.RBCs</th><th scope=col>MP34.Platelet.activation</th><th scope=col>MP35.Hemato.related.I</th><th scope=col>MP36.IG</th><th scope=col>MP37.Hemato.related.II</th><th scope=col>MP38.Glutathione</th><th scope=col>MP39.Metal.response</th><th scope=col>MP40.PDAC.related</th><th scope=col>MP41.Unassigned</th></tr>\n",
       "\t<tr><th></th><th scope=col>&lt;chr&gt;</th><th scope=col>&lt;chr&gt;</th><th scope=col>&lt;chr&gt;</th><th scope=col>&lt;chr&gt;</th><th scope=col>&lt;chr&gt;</th><th scope=col>&lt;chr&gt;</th><th scope=col>&lt;chr&gt;</th><th scope=col>&lt;chr&gt;</th><th scope=col>&lt;chr&gt;</th><th scope=col>&lt;chr&gt;</th><th scope=col>⋯</th><th scope=col>&lt;chr&gt;</th><th scope=col>&lt;chr&gt;</th><th scope=col>&lt;chr&gt;</th><th scope=col>&lt;chr&gt;</th><th scope=col>&lt;chr&gt;</th><th scope=col>&lt;chr&gt;</th><th scope=col>&lt;chr&gt;</th><th scope=col>&lt;chr&gt;</th><th scope=col>&lt;chr&gt;</th><th scope=col>&lt;chr&gt;</th></tr>\n",
       "</thead>\n",
       "<tbody>\n",
       "\t<tr><th scope=row>1</th><td>TOP2A </td><td>PCNA </td><td>STMN1 </td><td>MT-ND6 </td><td>ATF3    </td><td>NDRG1 </td><td>DDIT3   </td><td>PSMA3</td><td>PDIA3 </td><td>RPN2    </td><td>⋯</td><td>PHACTR1</td><td>BLVRB</td><td>RGS18  </td><td>CSF3R  </td><td>IGLC2</td><td>CTNNBL1</td><td>NAT8  </td><td>MT1X   </td><td>ISG20  </td><td>DST    </td></tr>\n",
       "\t<tr><th scope=row>2</th><td>UBE2C </td><td>RRM2 </td><td>TUBA1B</td><td>DST    </td><td>EGR1    </td><td>BNIP3 </td><td>SLC3A2  </td><td>PSMC4</td><td>MANF  </td><td>PDIA3   </td><td>⋯</td><td>TBC1D7 </td><td>HBB  </td><td>PDLIM1 </td><td>SPINK2 </td><td>IGLC3</td><td>FCER1A </td><td>ACSM2B</td><td>CAV1   </td><td>KLK10  </td><td>KMT2A  </td></tr>\n",
       "\t<tr><th scope=row>3</th><td>HMGB2 </td><td>FEN1 </td><td>H2AFZ </td><td>SMARCA5</td><td>FOS     </td><td>SLC2A1</td><td>TRIB3   </td><td>MDH1 </td><td>PDIA4 </td><td>ATP6AP2 </td><td>⋯</td><td>MLANA  </td><td>APOC1</td><td>ITGA2B </td><td>VAMP5  </td><td>IGHA2</td><td>GATA2  </td><td>LGALS2</td><td>MT1E   </td><td>CEACAM1</td><td>MALAT1 </td></tr>\n",
       "\t<tr><th scope=row>4</th><td>NUSAP1</td><td>GINS2</td><td>DUT   </td><td>SPEN   </td><td>PPP1R15A</td><td>P4HA1 </td><td>ASNS    </td><td>PRDX1</td><td>CRELD2</td><td>HSPA5   </td><td>⋯</td><td>ASAH1  </td><td>CA1  </td><td>PLEK   </td><td>AZU1   </td><td>IGHA1</td><td>CD84   </td><td>AMN   </td><td>C5ORF46</td><td>F3     </td><td>MIR6515</td></tr>\n",
       "\t<tr><th scope=row>5</th><td>CENPF </td><td>TYMS </td><td>TUBB  </td><td>PCM1   </td><td>JUN     </td><td>VEGFA </td><td>HERPUD1 </td><td>PSMA4</td><td>HSPA5 </td><td>PDIA6   </td><td>⋯</td><td>DCT    </td><td>HBD  </td><td>C6ORF25</td><td>SELL   </td><td>IGHG4</td><td>PDZD8  </td><td>BBOX1 </td><td>TGFBI  </td><td>LMO7   </td><td>AKAP9  </td></tr>\n",
       "\t<tr><th scope=row>6</th><td>CCNB1 </td><td>MCM3 </td><td>PCNA  </td><td>GOLGA4 </td><td>DUSP1   </td><td>ENO2  </td><td>PPP1R15A</td><td>PSMC2</td><td>SDF2L1</td><td>LGALS3BP</td><td>⋯</td><td>LGALS3 </td><td>AHSP </td><td>FERMT3 </td><td>C1QTNF4</td><td>IGKC </td><td>SLC40A1</td><td>KHK   </td><td>CEBPB  </td><td>PLAUR  </td><td>ATRX   </td></tr>\n",
       "</tbody>\n",
       "</table>\n"
      ],
      "text/latex": [
       "A data.frame: 6 × 41\n",
       "\\begin{tabular}{r|lllllllllllllllllllll}\n",
       "  & MP1..Cell.Cycle...G2.M & MP2..Cell.Cycle...G1.S & MP3..Cell.Cylce.HMG.rich & MP4..Chromatin & MP5.Stress & MP6.Hypoxia & MP7.Stress..in.vitro. & MP8.Proteasomal.degradation & MP9.Unfolded.protein.response & MP10.Protein.maturation & ⋯ & MP32.Skin.pigmentation & MP33.RBCs & MP34.Platelet.activation & MP35.Hemato.related.I & MP36.IG & MP37.Hemato.related.II & MP38.Glutathione & MP39.Metal.response & MP40.PDAC.related & MP41.Unassigned\\\\\n",
       "  & <chr> & <chr> & <chr> & <chr> & <chr> & <chr> & <chr> & <chr> & <chr> & <chr> & ⋯ & <chr> & <chr> & <chr> & <chr> & <chr> & <chr> & <chr> & <chr> & <chr> & <chr>\\\\\n",
       "\\hline\n",
       "\t1 & TOP2A  & PCNA  & STMN1  & MT-ND6  & ATF3     & NDRG1  & DDIT3    & PSMA3 & PDIA3  & RPN2     & ⋯ & PHACTR1 & BLVRB & RGS18   & CSF3R   & IGLC2 & CTNNBL1 & NAT8   & MT1X    & ISG20   & DST    \\\\\n",
       "\t2 & UBE2C  & RRM2  & TUBA1B & DST     & EGR1     & BNIP3  & SLC3A2   & PSMC4 & MANF   & PDIA3    & ⋯ & TBC1D7  & HBB   & PDLIM1  & SPINK2  & IGLC3 & FCER1A  & ACSM2B & CAV1    & KLK10   & KMT2A  \\\\\n",
       "\t3 & HMGB2  & FEN1  & H2AFZ  & SMARCA5 & FOS      & SLC2A1 & TRIB3    & MDH1  & PDIA4  & ATP6AP2  & ⋯ & MLANA   & APOC1 & ITGA2B  & VAMP5   & IGHA2 & GATA2   & LGALS2 & MT1E    & CEACAM1 & MALAT1 \\\\\n",
       "\t4 & NUSAP1 & GINS2 & DUT    & SPEN    & PPP1R15A & P4HA1  & ASNS     & PRDX1 & CRELD2 & HSPA5    & ⋯ & ASAH1   & CA1   & PLEK    & AZU1    & IGHA1 & CD84    & AMN    & C5ORF46 & F3      & MIR6515\\\\\n",
       "\t5 & CENPF  & TYMS  & TUBB   & PCM1    & JUN      & VEGFA  & HERPUD1  & PSMA4 & HSPA5  & PDIA6    & ⋯ & DCT     & HBD   & C6ORF25 & SELL    & IGHG4 & PDZD8   & BBOX1  & TGFBI   & LMO7    & AKAP9  \\\\\n",
       "\t6 & CCNB1  & MCM3  & PCNA   & GOLGA4  & DUSP1    & ENO2   & PPP1R15A & PSMC2 & SDF2L1 & LGALS3BP & ⋯ & LGALS3  & AHSP  & FERMT3  & C1QTNF4 & IGKC  & SLC40A1 & KHK    & CEBPB   & PLAUR   & ATRX   \\\\\n",
       "\\end{tabular}\n"
      ],
      "text/markdown": [
       "\n",
       "A data.frame: 6 × 41\n",
       "\n",
       "| <!--/--> | MP1..Cell.Cycle...G2.M &lt;chr&gt; | MP2..Cell.Cycle...G1.S &lt;chr&gt; | MP3..Cell.Cylce.HMG.rich &lt;chr&gt; | MP4..Chromatin &lt;chr&gt; | MP5.Stress &lt;chr&gt; | MP6.Hypoxia &lt;chr&gt; | MP7.Stress..in.vitro. &lt;chr&gt; | MP8.Proteasomal.degradation &lt;chr&gt; | MP9.Unfolded.protein.response &lt;chr&gt; | MP10.Protein.maturation &lt;chr&gt; | ⋯ ⋯ | MP32.Skin.pigmentation &lt;chr&gt; | MP33.RBCs &lt;chr&gt; | MP34.Platelet.activation &lt;chr&gt; | MP35.Hemato.related.I &lt;chr&gt; | MP36.IG &lt;chr&gt; | MP37.Hemato.related.II &lt;chr&gt; | MP38.Glutathione &lt;chr&gt; | MP39.Metal.response &lt;chr&gt; | MP40.PDAC.related &lt;chr&gt; | MP41.Unassigned &lt;chr&gt; |\n",
       "|---|---|---|---|---|---|---|---|---|---|---|---|---|---|---|---|---|---|---|---|---|---|\n",
       "| 1 | TOP2A  | PCNA  | STMN1  | MT-ND6  | ATF3     | NDRG1  | DDIT3    | PSMA3 | PDIA3  | RPN2     | ⋯ | PHACTR1 | BLVRB | RGS18   | CSF3R   | IGLC2 | CTNNBL1 | NAT8   | MT1X    | ISG20   | DST     |\n",
       "| 2 | UBE2C  | RRM2  | TUBA1B | DST     | EGR1     | BNIP3  | SLC3A2   | PSMC4 | MANF   | PDIA3    | ⋯ | TBC1D7  | HBB   | PDLIM1  | SPINK2  | IGLC3 | FCER1A  | ACSM2B | CAV1    | KLK10   | KMT2A   |\n",
       "| 3 | HMGB2  | FEN1  | H2AFZ  | SMARCA5 | FOS      | SLC2A1 | TRIB3    | MDH1  | PDIA4  | ATP6AP2  | ⋯ | MLANA   | APOC1 | ITGA2B  | VAMP5   | IGHA2 | GATA2   | LGALS2 | MT1E    | CEACAM1 | MALAT1  |\n",
       "| 4 | NUSAP1 | GINS2 | DUT    | SPEN    | PPP1R15A | P4HA1  | ASNS     | PRDX1 | CRELD2 | HSPA5    | ⋯ | ASAH1   | CA1   | PLEK    | AZU1    | IGHA1 | CD84    | AMN    | C5ORF46 | F3      | MIR6515 |\n",
       "| 5 | CENPF  | TYMS  | TUBB   | PCM1    | JUN      | VEGFA  | HERPUD1  | PSMA4 | HSPA5  | PDIA6    | ⋯ | DCT     | HBD   | C6ORF25 | SELL    | IGHG4 | PDZD8   | BBOX1  | TGFBI   | LMO7    | AKAP9   |\n",
       "| 6 | CCNB1  | MCM3  | PCNA   | GOLGA4  | DUSP1    | ENO2   | PPP1R15A | PSMC2 | SDF2L1 | LGALS3BP | ⋯ | LGALS3  | AHSP  | FERMT3  | C1QTNF4 | IGKC  | SLC40A1 | KHK    | CEBPB   | PLAUR   | ATRX    |\n",
       "\n"
      ],
      "text/plain": [
       "  MP1..Cell.Cycle...G2.M MP2..Cell.Cycle...G1.S MP3..Cell.Cylce.HMG.rich\n",
       "1 TOP2A                  PCNA                   STMN1                   \n",
       "2 UBE2C                  RRM2                   TUBA1B                  \n",
       "3 HMGB2                  FEN1                   H2AFZ                   \n",
       "4 NUSAP1                 GINS2                  DUT                     \n",
       "5 CENPF                  TYMS                   TUBB                    \n",
       "6 CCNB1                  MCM3                   PCNA                    \n",
       "  MP4..Chromatin MP5.Stress MP6.Hypoxia MP7.Stress..in.vitro.\n",
       "1 MT-ND6         ATF3       NDRG1       DDIT3                \n",
       "2 DST            EGR1       BNIP3       SLC3A2               \n",
       "3 SMARCA5        FOS        SLC2A1      TRIB3                \n",
       "4 SPEN           PPP1R15A   P4HA1       ASNS                 \n",
       "5 PCM1           JUN        VEGFA       HERPUD1              \n",
       "6 GOLGA4         DUSP1      ENO2        PPP1R15A             \n",
       "  MP8.Proteasomal.degradation MP9.Unfolded.protein.response\n",
       "1 PSMA3                       PDIA3                        \n",
       "2 PSMC4                       MANF                         \n",
       "3 MDH1                        PDIA4                        \n",
       "4 PRDX1                       CRELD2                       \n",
       "5 PSMA4                       HSPA5                        \n",
       "6 PSMC2                       SDF2L1                       \n",
       "  MP10.Protein.maturation ⋯ MP32.Skin.pigmentation MP33.RBCs\n",
       "1 RPN2                    ⋯ PHACTR1                BLVRB    \n",
       "2 PDIA3                   ⋯ TBC1D7                 HBB      \n",
       "3 ATP6AP2                 ⋯ MLANA                  APOC1    \n",
       "4 HSPA5                   ⋯ ASAH1                  CA1      \n",
       "5 PDIA6                   ⋯ DCT                    HBD      \n",
       "6 LGALS3BP                ⋯ LGALS3                 AHSP     \n",
       "  MP34.Platelet.activation MP35.Hemato.related.I MP36.IG MP37.Hemato.related.II\n",
       "1 RGS18                    CSF3R                 IGLC2   CTNNBL1               \n",
       "2 PDLIM1                   SPINK2                IGLC3   FCER1A                \n",
       "3 ITGA2B                   VAMP5                 IGHA2   GATA2                 \n",
       "4 PLEK                     AZU1                  IGHA1   CD84                  \n",
       "5 C6ORF25                  SELL                  IGHG4   PDZD8                 \n",
       "6 FERMT3                   C1QTNF4               IGKC    SLC40A1               \n",
       "  MP38.Glutathione MP39.Metal.response MP40.PDAC.related MP41.Unassigned\n",
       "1 NAT8             MT1X                ISG20             DST            \n",
       "2 ACSM2B           CAV1                KLK10             KMT2A          \n",
       "3 LGALS2           MT1E                CEACAM1           MALAT1         \n",
       "4 AMN              C5ORF46             F3                MIR6515        \n",
       "5 BBOX1            TGFBI               LMO7              AKAP9          \n",
       "6 KHK              CEBPB               PLAUR             ATRX           "
      ]
     },
     "metadata": {},
     "output_type": "display_data"
    }
   ],
   "source": [
    "program = read.table('../data/NMF41.csv', sep=',', header=1)\n",
    "head(program)"
   ]
  },
  {
   "cell_type": "code",
   "execution_count": null,
   "id": "a0d2937c-e829-43f2-b61f-6064737e9a44",
   "metadata": {},
   "outputs": [],
   "source": [
    "nsclc_specific = "
   ]
  }
 ],
 "metadata": {
  "kernelspec": {
   "display_name": "R",
   "language": "R",
   "name": "ir"
  },
  "language_info": {
   "codemirror_mode": "r",
   "file_extension": ".r",
   "mimetype": "text/x-r-source",
   "name": "R",
   "pygments_lexer": "r",
   "version": "4.3.3"
  }
 },
 "nbformat": 4,
 "nbformat_minor": 5
}
